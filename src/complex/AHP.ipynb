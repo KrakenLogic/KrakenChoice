{
 "cells": [
  {
   "cell_type": "code",
   "execution_count": 1,
   "metadata": {},
   "outputs": [],
   "source": [
    "import numpy as np\n",
    "def ahp_weighting (comparison_matrix):\n",
    "   \n",
    "    col_sum=np.sum(comparison_matrix,axis=0)\n",
    "    normalize_matrix=comparison_matrix/col_sum\n",
    "    criteria_weight=np.mean(normalize_matrix,axis=1)\n",
    "    return criteria_weight\n",
    "\n",
    "def ahp_ranking(*args, weight=None):\n",
    "    result = np.array([np.mean(np.divide(arg, np.sum(arg, axis=0)), axis=1) for arg in args]).T\n",
    "\n",
    "    if weight is not None:\n",
    "        weighted_sum = np.dot(result, weight)\n",
    "        sorted_weight = np.argsort(weighted_sum)  \n",
    "        return weighted_sum, result\n",
    "    else:\n",
    "        return result\n",
    "def rate_stability(matrix):\n",
    "    weight=np.divide(matrix,np.sum(matrix,axis=0))\n",
    "    weight=np.mean(weight,axis=1)\n",
    "    \n",
    "    lanada_matrix=np.dot(matrix,weight)\n",
    "    lanada_matrix=np.divide(lanada_matrix,weight)\n",
    "    landa_max=np.divide(np.sum(lanada_matrix),len(lanada_matrix))\n",
    "    \n",
    "    Incompatibility_index=(landa_max-len(lanada_matrix))/(len(lanada_matrix)-1)\n",
    "    \n",
    "    IIR={1:0 ,2:0 ,3:0.58 ,4:0.9 ,5:1.12, 6:1.24, 7:1.32, 8:1.41, 9:1.45, 10:1.51}\n",
    "    incompatibility_rate= (Incompatibility_index)/(IIR[len(lanada_matrix)])\n",
    "    \n",
    "    return incompatibility_rate\n"
   ]
  },
  {
   "cell_type": "code",
   "execution_count": null,
   "metadata": {},
   "outputs": [],
   "source": []
  }
 ],
 "metadata": {
  "kernelspec": {
   "display_name": "Python 3",
   "language": "python",
   "name": "python3"
  },
  "language_info": {
   "codemirror_mode": {
    "name": "ipython",
    "version": 3
   },
   "file_extension": ".py",
   "mimetype": "text/x-python",
   "name": "python",
   "nbconvert_exporter": "python",
   "pygments_lexer": "ipython3",
   "version": "3.11.1"
  }
 },
 "nbformat": 4,
 "nbformat_minor": 2
}
