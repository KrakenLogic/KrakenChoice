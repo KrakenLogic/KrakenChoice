{
 "cells": [
  {
   "cell_type": "code",
   "execution_count": 1,
   "metadata": {},
   "outputs": [],
   "source": [
    "import numpy as np\n",
    "\n",
    "def dematel(matrix):\n",
    "    \n",
    "    normalized_matrix = matrix / np.sum(matrix, axis=0)\n",
    "\n",
    "    \n",
    "    total_effect = np.sum(normalized_matrix, axis=1)\n",
    "    total_cause = np.sum(normalized_matrix, axis=0)\n",
    "\n",
    "    \n",
    "    normalized_total_effect = total_effect / (1 + total_effect)\n",
    "    normalized_total_cause = total_cause / (1 + total_cause)\n",
    "\n",
    "    \n",
    "    impact_matrix = np.outer(normalized_total_effect, normalized_total_cause)\n",
    "    \n",
    "\n",
    "    return impact_matrix"
   ]
  },
  {
   "cell_type": "code",
   "execution_count": null,
   "metadata": {},
   "outputs": [],
   "source": []
  }
 ],
 "metadata": {
  "kernelspec": {
   "display_name": "Python 3",
   "language": "python",
   "name": "python3"
  },
  "language_info": {
   "codemirror_mode": {
    "name": "ipython",
    "version": 3
   },
   "file_extension": ".py",
   "mimetype": "text/x-python",
   "name": "python",
   "nbconvert_exporter": "python",
   "pygments_lexer": "ipython3",
   "version": "3.11.1"
  }
 },
 "nbformat": 4,
 "nbformat_minor": 2
}
