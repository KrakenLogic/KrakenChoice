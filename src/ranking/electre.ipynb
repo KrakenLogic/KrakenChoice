{
 "cells": [
  {
   "cell_type": "code",
   "execution_count": 1,
   "metadata": {},
   "outputs": [],
   "source": [
    "import numpy as np\n",
    "\n",
    "def electre1(matrix, weights, q, p):\n",
    "    #q: Thresholds for concordance\n",
    "    # p: Threshold for discordance\n",
    "    \n",
    "\n",
    "    \n",
    "    concordance_matrix = np.sum(\n",
    "        (matrix[:, None, :] >= matrix[None, :, :]) * weights[None, None, :],\n",
    "        axis=2\n",
    "    )\n",
    "\n",
    "    \n",
    "    discordance_matrix = np.sum(\n",
    "        (matrix[None, :, :] - matrix[:, None, :]) * (matrix[None, :, :] > matrix[:, None, :]) * weights[None, None, :],\n",
    "        axis=2\n",
    "    )\n",
    "\n",
    "    \n",
    "    outranking_relation = (concordance_matrix >= q) & (discordance_matrix <= p)\n",
    "    np.fill_diagonal(outranking_relation, 0)\n",
    "\n",
    "    \n",
    "    outranking_score = np.sum(outranking_relation, axis=1)\n",
    "\n",
    "    \n",
    "    ranking = np.argsort(outranking_score)[::1]\n",
    "\n",
    "    return ranking + 1  "
   ]
  },
  {
   "cell_type": "code",
   "execution_count": null,
   "metadata": {},
   "outputs": [],
   "source": []
  }
 ],
 "metadata": {
  "kernelspec": {
   "display_name": "Python 3",
   "language": "python",
   "name": "python3"
  },
  "language_info": {
   "codemirror_mode": {
    "name": "ipython",
    "version": 3
   },
   "file_extension": ".py",
   "mimetype": "text/x-python",
   "name": "python",
   "nbconvert_exporter": "python",
   "pygments_lexer": "ipython3",
   "version": "3.11.1"
  }
 },
 "nbformat": 4,
 "nbformat_minor": 2
}
