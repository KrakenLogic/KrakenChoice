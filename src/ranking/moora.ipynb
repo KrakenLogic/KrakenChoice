{
 "cells": [
  {
   "cell_type": "code",
   "execution_count": 1,
   "metadata": {},
   "outputs": [],
   "source": [
    "import numpy as np\n",
    "\n",
    "def moora_mcdm(dataset, weights, criterion_type):\n",
    "    X = np.copy(dataset) \n",
    "\n",
    "    root = np.sqrt(np.sum(X**2, axis=0))\n",
    "    X = X / root\n",
    "    X = X * weights\n",
    "\n",
    "    id1 = np.where(np.array(criterion_type) == 'max')[0]\n",
    "    id2 = np.where(np.array(criterion_type) == 'min')[0]\n",
    "\n",
    "    s_p = np.sum(X[:, id1], axis=1) if len(id1) > 0 else np.zeros(X.shape[0])\n",
    "    s_m = np.sum(X[:, id2], axis=1) if len(id2) > 0 else np.zeros(X.shape[0])\n",
    "\n",
    "    Y = s_p - s_m\n",
    "\n",
    "    flow = np.column_stack((np.arange(1, Y.shape[0]+1), Y))\n",
    "\n",
    "    return flow"
   ]
  },
  {
   "cell_type": "code",
   "execution_count": null,
   "metadata": {},
   "outputs": [],
   "source": []
  }
 ],
 "metadata": {
  "kernelspec": {
   "display_name": "Python 3",
   "language": "python",
   "name": "python3"
  },
  "language_info": {
   "codemirror_mode": {
    "name": "ipython",
    "version": 3
   },
   "file_extension": ".py",
   "mimetype": "text/x-python",
   "name": "python",
   "nbconvert_exporter": "python",
   "pygments_lexer": "ipython3",
   "version": "3.11.1"
  }
 },
 "nbformat": 4,
 "nbformat_minor": 2
}
